{
  "nbformat": 4,
  "nbformat_minor": 0,
  "metadata": {
    "colab": {
      "provenance": [],
      "authorship_tag": "ABX9TyMFYrQ2OWn+BTk9tGV060UX",
      "include_colab_link": true
    },
    "kernelspec": {
      "name": "python3",
      "display_name": "Python 3"
    },
    "language_info": {
      "name": "python"
    }
  },
  "cells": [
    {
      "cell_type": "markdown",
      "metadata": {
        "id": "view-in-github",
        "colab_type": "text"
      },
      "source": [
        "<a href=\"https://colab.research.google.com/github/adihebbalae/randos/blob/main/Webpage_Reader_(12).ipynb\" target=\"_parent\"><img src=\"https://colab.research.google.com/assets/colab-badge.svg\" alt=\"Open In Colab\"/></a>"
      ]
    },
    {
      "cell_type": "code",
      "source": [
        "file_path = 'CollegeList.txt'  # Replace 'your_file.txt' with the actual path to your text file\n",
        "import csv\n",
        "# Open the file in read mode\n",
        "with open(file_path, 'r') as file:\n",
        "    # Read the content of the file into a string\n",
        "    content = file.read()\n",
        "\n",
        "# Now, file_contents contains the content of the file as a string\n",
        "with open('profiles1.csv', 'w', newline='') as file:\n",
        "    writer = csv.writer(file)\n",
        "    field = [\"Ranking\", \"College Name\", \"State\",\"Type\",\"Av. Grant Aid\",\"Av. Debt\",\"Median 10-year Salary\",\"Description\"]\n",
        "\n",
        "    writer.writerow(field)\n",
        "    file_contents = content[2266:]\n",
        "    for i in range(50):\n",
        "\n",
        "\n",
        "      startTemp = file_contents.find('#')\n",
        "      temp = file_contents[startTemp:]\n",
        "      endTemp = temp.find('\\\\')\n",
        "      rank = temp[:endTemp]\n",
        "      #print(rank)\n",
        "\n",
        "      startTemp = file_contents.find('#')\n",
        "      temp = file_contents[startTemp+22:]\n",
        "      endTemp = temp.find('\"')\n",
        "      collegeName = temp[:endTemp]\n",
        "      #print(collegeName)\n",
        "\n",
        "      startTemp = file_contents.find('State:')\n",
        "      temp = file_contents[startTemp+22:]\n",
        "      endTemp = 2\n",
        "      State = temp[:endTemp]\n",
        "      #print(State)\n",
        "\n",
        "      startTemp = file_contents.find('Type')\n",
        "      temp = file_contents[startTemp+21:]\n",
        "      endTemp = temp.find('\\\\')\n",
        "      Type = temp[:endTemp]\n",
        "      #print(Type)\n",
        "\n",
        "      startTemp = file_contents.find('Av. Grant Aid:')\n",
        "      temp = file_contents[startTemp+30:]\n",
        "      endTemp = temp.find('\\\\')\n",
        "      grantAid = temp[:endTemp]\n",
        "      #print(grantAid)\n",
        "\n",
        "      startTemp = file_contents.find('Av. Debt:')\n",
        "      temp = file_contents[startTemp+25:]\n",
        "      endTemp = temp.find('\\\\')\n",
        "      debt = temp[:endTemp]\n",
        "      #print(Debt)\n",
        "\n",
        "      startTemp = file_contents.find('Median 10-year Salary')\n",
        "      temp = file_contents[startTemp+38:]\n",
        "      endTemp = temp.find('\\\\')\n",
        "      med10Sal = temp[:endTemp]\n",
        "      #print(med10Sal)\n",
        "\n",
        "      startTemp = file_contents.find('\\\\u003Cbr\\\\u003E\\\\n')\n",
        "      temp = file_contents[startTemp+16:]\n",
        "      endTemp = temp.find('\\\\')\n",
        "      Description = temp[:endTemp]\n",
        "      #print(Description)\n",
        "\n",
        "      writer.writerow([rank, collegeName, State, Type, grantAid, debt, med10Sal, Description])\n",
        "\n",
        "      file_contents = file_contents[file_contents.find(\".\\\\\") + 10:]\n",
        "      #print(\"\\n\")\n",
        "\n"
      ],
      "metadata": {
        "id": "AAicwjKGmstL"
      },
      "execution_count": null,
      "outputs": []
    }
  ]
}