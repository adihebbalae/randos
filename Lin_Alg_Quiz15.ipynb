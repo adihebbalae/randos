{
  "nbformat": 4,
  "nbformat_minor": 0,
  "metadata": {
    "colab": {
      "provenance": [],
      "authorship_tag": "ABX9TyNUvmdTAzKx7wPwsWmvuUKI",
      "include_colab_link": true
    },
    "kernelspec": {
      "name": "python3",
      "display_name": "Python 3"
    },
    "language_info": {
      "name": "python"
    }
  },
  "cells": [
    {
      "cell_type": "markdown",
      "metadata": {
        "id": "view-in-github",
        "colab_type": "text"
      },
      "source": [
        "<a href=\"https://colab.research.google.com/github/adihebbalae/randos/blob/main/Lin_Alg_Quiz15.ipynb\" target=\"_parent\"><img src=\"https://colab.research.google.com/assets/colab-badge.svg\" alt=\"Open In Colab\"/></a>"
      ]
    },
    {
      "cell_type": "code",
      "execution_count": null,
      "metadata": {
        "colab": {
          "base_uri": "https://localhost:8080/"
        },
        "collapsed": true,
        "id": "HXdxrof--Iqv",
        "outputId": "2c2c96c2-d08a-460c-a7e7-396e6e5ca2ea"
      },
      "outputs": [
        {
          "output_type": "stream",
          "name": "stdout",
          "text": [
            "Matrix 1:\n",
            "[[0 0 0]\n",
            " [0 0 0]\n",
            " [0 0 0]]\n",
            "\n",
            "Matrix 2:\n",
            "[[0 0 0]\n",
            " [0 0 0]\n",
            " [0 0 1]]\n",
            "\n",
            "Matrix 3:\n",
            "[[0 0 0]\n",
            " [0 0 0]\n",
            " [0 1 0]]\n",
            "\n",
            "Matrix 4:\n",
            "[[0 0 0]\n",
            " [0 0 0]\n",
            " [0 1 1]]\n",
            "\n",
            "Matrix 5:\n",
            "[[0 0 0]\n",
            " [0 0 0]\n",
            " [1 0 0]]\n",
            "\n",
            "Total matrices generated: 512\n"
          ]
        }
      ],
      "source": [
        "# import itertools\n",
        "# import numpy as np\n",
        "\n",
        "# def generate_3x3_matrices():\n",
        "\n",
        "#     all_combinations = list(itertools.product([0, 1], repeat=9))\n",
        "#     matrices = [np.array(combination).reshape(3, 3) for combination in all_combinations]\n",
        "\n",
        "#     return matrices\n",
        "\n",
        "# if __name__ == \"__main__\":\n",
        "#     # Generate the matrices\n",
        "#     matrices = generate_3x3_matrices()\n",
        "\n",
        "#     for i, matrix in enumerate(matrices[:5]):\n",
        "#         print(f\"Matrix {i+1}:\\n{matrix}\\n\")\n",
        "\n",
        "#     print(f\"Total matrices generated: {len(matrices)}\")\n"
      ]
    },
    {
      "cell_type": "code",
      "source": [
        "import itertools\n",
        "import numpy as np\n",
        "\n",
        "def generate_3x3_matrices():\n",
        "    all_combinations = list(itertools.product([0, 1], repeat=9))\n",
        "    matrices = [np.array(combination).reshape(3, 3) for combination in all_combinations]\n",
        "    return matrices\n",
        "\n",
        "def convert_to_9x1(matrix):\n",
        "    return matrix.T.flatten()\n",
        "\n",
        "def calculate_ones_count(matrix, M):\n",
        "    n = convert_to_9x1(matrix)\n",
        "    return int(n.T @ M @ n)\n",
        "\n",
        "\n",
        "if __name__ == \"__main__\":\n",
        "    matrices = generate_3x3_matrices()\n",
        "    M = np.eye(9)\n",
        "\n",
        "    results = []\n",
        "    for matrix in matrices:\n",
        "        n = convert_to_9x1(matrix)\n",
        "        ones_count = int(n.T @ M @ n)\n",
        "        results.append((matrix, ones_count))\n",
        "\n",
        "    with open(\"output_matrices.txt\", \"w\") as f:\n",
        "        for i, (matrix, ones_count) in enumerate(results):\n",
        "            f.write(f\"Matrix {i+1}:\\n{matrix}\\nNumber of 1s: {ones_count}\\n\\n\")\n",
        "    print(\"All matrices saved to 'output_matrices.txt'.\")\n",
        "\n"
      ],
      "metadata": {
        "colab": {
          "base_uri": "https://localhost:8080/"
        },
        "id": "YLe6ITKfG_pY",
        "outputId": "4b67f14a-0db2-4f70-a563-0c92ca57a35e"
      },
      "execution_count": null,
      "outputs": [
        {
          "output_type": "stream",
          "name": "stdout",
          "text": [
            "All matrices saved to 'output_matrices.txt'.\n"
          ]
        }
      ]
    },
    {
      "cell_type": "code",
      "source": [],
      "metadata": {
        "colab": {
          "base_uri": "https://localhost:8080/"
        },
        "id": "BZBbhxpIH_sd",
        "outputId": "912ee783-e03d-4537-9828-aa9a1fc78ffb"
      },
      "execution_count": null,
      "outputs": [
        {
          "output_type": "stream",
          "name": "stdout",
          "text": [
            "All matrices saved to 'output_matrices.txt'.\n"
          ]
        }
      ]
    },
    {
      "cell_type": "code",
      "source": [],
      "metadata": {
        "id": "yVS5dZ82_gZ1"
      },
      "execution_count": null,
      "outputs": []
    }
  ]
}