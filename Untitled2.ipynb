{
  "nbformat": 4,
  "nbformat_minor": 0,
  "metadata": {
    "colab": {
      "provenance": [],
      "authorship_tag": "ABX9TyNYzqUF/p2hXy91iwbxlIXp",
      "include_colab_link": true
    },
    "kernelspec": {
      "name": "python3",
      "display_name": "Python 3"
    },
    "language_info": {
      "name": "python"
    }
  },
  "cells": [
    {
      "cell_type": "markdown",
      "metadata": {
        "id": "view-in-github",
        "colab_type": "text"
      },
      "source": [
        "<a href=\"https://colab.research.google.com/github/adihebbalae/randos/blob/main/Untitled2.ipynb\" target=\"_parent\"><img src=\"https://colab.research.google.com/assets/colab-badge.svg\" alt=\"Open In Colab\"/></a>"
      ]
    },
    {
      "cell_type": "code",
      "execution_count": null,
      "metadata": {
        "colab": {
          "base_uri": "https://localhost:8080/"
        },
        "id": "vXsTD4J_bjIR",
        "outputId": "843c0ef4-82f7-485b-9ec9-bcf3047c0c8e"
      },
      "outputs": [
        {
          "output_type": "stream",
          "name": "stdout",
          "text": [
            "Solution x: [-1.  5. -1. -5.]\n"
          ]
        }
      ],
      "source": [
        "import numpy as np\n",
        "\n",
        "def forward_substitution(L, b):\n",
        "    \"\"\"\n",
        "    Solves the system Ly = b for y, where L is a lower triangular matrix.\n",
        "    \"\"\"\n",
        "    n = L.shape[0]\n",
        "    y = np.zeros_like(b, dtype=np.double)\n",
        "\n",
        "    for i in range(n):\n",
        "        y[i] = (b[i] - np.dot(L[i, :i], y[:i])) / L[i, i]\n",
        "\n",
        "    return y\n",
        "\n",
        "def backward_substitution(U, y):\n",
        "    \"\"\"\n",
        "    Solves the system Ux = y for x, where U is an upper triangular matrix.\n",
        "    \"\"\"\n",
        "    n = U.shape[0]\n",
        "    x = np.zeros_like(y, dtype=np.double)\n",
        "\n",
        "    for i in range(n-1, -1, -1):\n",
        "        x[i] = (y[i] - np.dot(U[i, i+1:], x[i+1:])) / U[i, i]\n",
        "\n",
        "    return x\n",
        "\n",
        "def solve_lu(L, U, b):\n",
        "    \"\"\"\n",
        "    Solves the system LUx = b for x using forward and backward substitution.\n",
        "    \"\"\"\n",
        "    # Step 1: Solve Ly = b for y\n",
        "    y = forward_substitution(L, b)\n",
        "\n",
        "    # Step 2: Solve Ux = y for x\n",
        "    x = backward_substitution(U, y)\n",
        "\n",
        "    return x\n",
        "\n",
        "# Example usage:\n",
        "L = np.array([[1, 0, 0, 0],\n",
        "              [4, 1, 0, 0],\n",
        "              [-4, 3, 1, 0],\n",
        "              [-4, 1, -3, 1]], dtype=np.double)\n",
        "\n",
        "U = np.array([[-1, -3, -1, 0],\n",
        "              [0, -4, -1, 0],\n",
        "              [0, 0, 3, 0],\n",
        "              [0, 0, 0, 3]], dtype=np.double)\n",
        "\n",
        "b = np.array([-13, -71, -8, 27], dtype=np.double)\n",
        "\n",
        "x = solve_lu(L, U, b)\n",
        "print(\"Solution x:\", x)\n"
      ]
    }
  ]
}